{
 "cells": [
  {
   "cell_type": "markdown",
   "metadata": {},
   "source": [
    "## 1. GIT "
   ]
  },
  {
   "cell_type": "markdown",
   "metadata": {},
   "source": [
    "\n",
    "### origin là gì, main là gì? , master là gì?\n",
    "- **`origin`**: Tên mặc định cho remote repository mà bạn clone từ nó, thường là URL của repository từ xa.\n",
    "\t- Các lệnh làm việc với `origin`:\n",
    "\t\t- `git fetch origin`: Lấy các cập nhật từ remote repository `origin`.\n",
    "\t\t- `git push origin main`: Push các thay đổi từ local branch `main` lên remote `origin`.\n",
    "- **`main`**: Tên nhánh mặc định trong nhiều repo hiện nay, thường lưu trữ phiên bản code chính.\n",
    "- **`master`**: Tên nhánh mặc định trước đây, được thay thế bằng `main` trong các phiên bản Git hiện đại, nhưng có thể vẫn được sử dụng trong các dự án cũ."
   ]
  },
  {
   "cell_type": "markdown",
   "metadata": {},
   "source": [
    "### Đọc về cách ** Cách copy 2 nhánh bất kỳ từ repo 1 sang 2 nhánh bất kỳ repo 2: bằng gitKraKen** ở file: home - DoanNgocCuong\n",
    "\n",
    "\n",
    "\n",
    "\n",
    "Giả sử:\n",
    "- **Repo nguồn (source-repo)**: Branch `doanngoccuong_BackEnd_` ở repo nguồn.\n",
    "- **Repo đích (destination-repo)**: Bạn muốn push branch này sang branch `ver1_BackEnd_` trong repo đích.\n",
    "\n",
    " Các bước đầy đủ:\n",
    "\n",
    " 1. **Clone repo nguồn (source-repo)**\n",
    "```bash\n",
    "git clone https://github.com/username/source-repo.git\n",
    "cd source-repo\n",
    "```\n",
    "\n",
    " 2. **Thêm remote repo đích (destination-repo)**\n",
    "```bash\n",
    "git remote add destination https://github.com/username/destination-repo.git\n",
    "git remote -v\n",
    "```\n",
    "\n",
    " 3. **Fetch branch từ repo nguồn**\n",
    "```bash\n",
    "git fetch origin front-back-merge/version-5\n",
    "```\n",
    "Optional: `git checkout -b front-back-merge/version-5 origin/front-back-merge/version-5`\n",
    " 4. **Push branch sang repo đích (Ghi tiếp hoặc không ghi đè)**\n",
    "Nếu bạn muốn push branch `doanngoccuong_BackEnd_` từ repo nguồn sang branch `ver1_BackEnd_` trong repo đích mà **không ghi đè**, sử dụng lệnh sau:\n",
    "\n",
    "```bash\n",
    "git push destination origin/doanngoccuong_BackEnd_:ver1_BackEnd_\n",
    "```\n",
    "\n",
    "- **Mục đích**: Push branch `doanngoccuong_BackEnd_` từ repo nguồn sang branch `ver1_BackEnd_` trong repo đích.\n",
    "\n",
    " 5. **Push branch sang repo đích (Ghi đè)**\n",
    "Nếu bạn muốn ghi đè branch `ver1_BackEnd_` trong repo đích bằng branch `doanngoccuong_BackEnd_` từ repo nguồn, sử dụng lệnh `git push -f` để ghi đè:\n",
    "\n",
    "```bash\n",
    "git push -f destination origin/doanngoccuong_BackEnd_:refs/heads/ver1_BackEnd_\n",
    "```\n",
    "\n",
    "- **Mục đích**: Ghi đè branch `ver1_BackEnd_` trong repo đích bằng branch `doanngoccuong_BackEnd_` từ repo nguồn.\n",
    "\n",
    " 6. **Kiểm tra branch trong repo đích**\n",
    "```bash\n",
    "git fetch destination\n",
    "git branch -r\n",
    "```\n",
    "\n",
    " 7. **Kiểm tra lịch sử commit (tuỳ chọn)**\n",
    "```bash\n",
    "git log destination/ver1_BackEnd_\n",
    "```\n",
    "\n",
    " **Tóm tắt:**\n",
    "- **Push khi tên branch khác nhau:** Bạn chỉ định tên branch của cả repo nguồn và repo đích bằng cú pháp `source-branch:destination-branch`.\n",
    "- **Ghi đè:** Sử dụng `git push -f` khi bạn cần ghi đè branch trong repo đích.\n",
    "\n",
    "Với cú pháp trên, bạn có thể dễ dàng quản lý việc push branch khi tên branch ở repo nguồn và repo đích khác nhau."
   ]
  },
  {
   "cell_type": "markdown",
   "metadata": {},
   "source": [
    "### Demo - Launch(ra mắt) - Release(phát hành)\n",
    "\n",
    "Trong lĩnh vực công nghệ, quá trình giữa demo và launch có thể được gọi là \"pre-launch\" (trước khi ra mắt) hoặc \"pre-release\" (trước khi phát hành).### Các bước trong giai đoạn Pre-launch có thể bao gồm:\n",
    "1. **Beta Testing**: Giai đoạn thử nghiệm với một nhóm người dùng hạn chế để nhận phản hồi và sửa lỗi.\n",
    "2. **Quality Assurance (QA)**: Các bước để kiểm tra chất lượng sản phẩm trước khi ra mắt.\n",
    "3. **Marketing Preparation**: Chuẩn bị các tài liệu, chiến dịch truyền thông và thông điệp cho buổi ra mắt.\n",
    "4. **Feedback Incorporation**: Sửa đổi sản phẩm dựa trên phản hồi từ các buổi demo hoặc thử nghiệm trước đó.\n",
    "\n",
    "### Tóm lại:\n",
    "- **Pre-launch** hay **Pre-release** là cụm từ thường được sử dụng trong công nghệ để chỉ giai đoạn chuẩn bị giữa demo và launch, nơi các hoạt động quan trọng được thực hiện để đảm bảo sự thành công của sản phẩm khi ra mắt.\n"
   ]
  }
 ],
 "metadata": {
  "language_info": {
   "name": "python"
  }
 },
 "nbformat": 4,
 "nbformat_minor": 2
}
